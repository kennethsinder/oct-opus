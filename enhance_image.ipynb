{
 "cells": [
  {
   "cell_type": "code",
   "execution_count": null,
   "outputs": [],
   "source": [
    "from PIL import Image, ImageEnhance\n",
    "import matplotlib.pyplot as plt\n"
   ],
   "metadata": {
    "collapsed": false,
    "pycharm": {
     "name": "#%%\n"
    }
   }
  },
  {
   "cell_type": "code",
   "execution_count": null,
   "outputs": [],
   "source": [
    "omag_path = \"/Users/peilinli/Documents/fydp.nosync/optics-project/training-data/2015-09-07-Images-46/OMAG Bscans/\"\n",
    "omage_image_path = omag_path + \"64.png\"\n"
   ],
   "metadata": {
    "collapsed": false,
    "pycharm": {
     "name": "#%%\n"
    }
   }
  },
  {
   "cell_type": "code",
   "execution_count": null,
   "outputs": [],
   "source": [
    "original_image = Image.open(omage_image_path)\n",
    "original_image\n"
   ],
   "metadata": {
    "collapsed": false,
    "pycharm": {
     "name": "#%%\n"
    }
   }
  },
  {
   "cell_type": "code",
   "execution_count": null,
   "outputs": [],
   "source": [
    "contrast_enhancer = ImageEnhance.Contrast(original_image)\n",
    "contrast_image = contrast_enhancer.enhance(1.5)\n",
    "contrast_image\n"
   ],
   "metadata": {
    "collapsed": false,
    "pycharm": {
     "name": "#%%\n"
    }
   }
  },
  {
   "cell_type": "code",
   "execution_count": null,
   "outputs": [],
   "source": [
    "sharpness_enhancer = ImageEnhance.Sharpness(contrast_image)\n",
    "sharpened_image = sharpness_enhancer.enhance(2.0)\n",
    "sharpened_image\n"
   ],
   "metadata": {
    "collapsed": false,
    "pycharm": {
     "name": "#%%\n"
    }
   }
  },
  {
   "cell_type": "code",
   "execution_count": null,
   "outputs": [],
   "source": [
    "%matplotlib inline\n",
    "plt.figure(figsize=(3, 6))\n",
    "fig, ax = plt.subplots(1, 3)\n",
    "plt.gray()\n",
    "ax[0].imshow(original_image)\n",
    "ax[1].imshow(contrast_image)\n",
    "ax[2].imshow(sharpened_image)\n",
    "plt.show()\n"
   ],
   "metadata": {
    "collapsed": false,
    "pycharm": {
     "name": "#%%\n"
    }
   }
  },
  {
   "cell_type": "code",
   "execution_count": null,
   "outputs": [],
   "source": [
    "from enface.slicer import Slicer\n",
    "from enface.loader import Loader\n"
   ],
   "metadata": {
    "collapsed": false,
    "pycharm": {
     "name": "#%%\n"
    }
   }
  },
  {
   "cell_type": "code",
   "execution_count": null,
   "outputs": [],
   "source": [
    "LOW_BOUND_LAYER = 60\n",
    "HIGH_BOUND_LAYER = 240\n",
    "IMAGE_DIMENSIONS = original_image.size\n",
    "input_type = Loader.InputType.OMAG\n",
    "loader = Loader(src_dir=omag_path, input_type=input_type, image_dimensions=IMAGE_DIMENSIONS)\n"
   ],
   "metadata": {
    "collapsed": false,
    "pycharm": {
     "name": "#%%\n"
    }
   }
  },
  {
   "cell_type": "code",
   "execution_count": null,
   "outputs": [],
   "source": [
    "original_eye = loader.load_data_set(enable_enhancement=False)\n",
    "slicer = Slicer(original_eye, IMAGE_DIMENSIONS)\n",
    "slicer.multi_slice_sum(original_eye, LOW_BOUND_LAYER, HIGH_BOUND_LAYER)\n"
   ],
   "metadata": {
    "collapsed": false,
    "pycharm": {
     "name": "#%%\n"
    }
   }
  },
  {
   "cell_type": "code",
   "execution_count": null,
   "outputs": [],
   "source": [
    "enhanced_eye = loader.load_data_set(enable_enhancement=True)\n",
    "slicer = Slicer(enhanced_eye, IMAGE_DIMENSIONS)\n",
    "slicer.multi_slice_sum(enhanced_eye, LOW_BOUND_LAYER, HIGH_BOUND_LAYER)\n"
   ],
   "metadata": {
    "collapsed": false,
    "pycharm": {
     "name": "#%%\n"
    }
   }
  }
 ],
 "metadata": {
  "language_info": {
   "codemirror_mode": {
    "name": "ipython",
    "version": 2
   },
   "file_extension": ".py",
   "mimetype": "text/x-python",
   "name": "python",
   "nbconvert_exporter": "python",
   "pygments_lexer": "ipython2",
   "version": "2.7.6"
  },
  "kernelspec": {
   "name": "python3",
   "language": "python",
   "display_name": "Python 3"
  },
  "pycharm": {
   "stem_cell": {
    "cell_type": "raw",
    "source": [],
    "metadata": {
     "collapsed": false
    }
   }
  }
 },
 "nbformat": 4,
 "nbformat_minor": 0
}